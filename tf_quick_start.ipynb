{
  "nbformat": 4,
  "nbformat_minor": 0,
  "metadata": {
    "colab": {
      "provenance": [],
      "authorship_tag": "ABX9TyM8J0OThv/ddV3SQy45mORS",
      "include_colab_link": true
    },
    "kernelspec": {
      "name": "python3",
      "display_name": "Python 3"
    },
    "language_info": {
      "name": "python"
    }
  },
  "cells": [
    {
      "cell_type": "markdown",
      "metadata": {
        "id": "view-in-github",
        "colab_type": "text"
      },
      "source": [
        "<a href=\"https://colab.research.google.com/github/ablet-imin/tensorflow_training/blob/main/tf_quick_start.ipynb\" target=\"_parent\"><img src=\"https://colab.research.google.com/assets/colab-badge.svg\" alt=\"Open In Colab\"/></a>"
      ]
    },
    {
      "cell_type": "markdown",
      "source": [
        "1. Load data\n",
        "2. Build a NN for image classification\n",
        "3. Train NN\n",
        "4. Evaluate accuracy of the model"
      ],
      "metadata": {
        "id": "37B2ZJ4NZjCt"
      }
    },
    {
      "cell_type": "code",
      "execution_count": 1,
      "metadata": {
        "colab": {
          "base_uri": "https://localhost:8080/"
        },
        "id": "OOkcD9alX0u3",
        "outputId": "d1bf39b6-4b60-434e-a9a6-8ada55ccedb6"
      },
      "outputs": [
        {
          "output_type": "stream",
          "name": "stdout",
          "text": [
            "2.8.2\n"
          ]
        }
      ],
      "source": [
        "import tensorflow as tf\n",
        "print(tf.__version__)"
      ]
    },
    {
      "cell_type": "markdown",
      "source": [
        "***Load mnist dataset***"
      ],
      "metadata": {
        "id": "mTXCAontaVXJ"
      }
    },
    {
      "cell_type": "code",
      "source": [
        "mnist = tf.keras.datasets.mnist\n",
        "(x_train, y_train), (x_test, y_test) = mnist.load_data()\n",
        "x_train, x_test = x_train/255. , x_test/255."
      ],
      "metadata": {
        "colab": {
          "base_uri": "https://localhost:8080/"
        },
        "id": "rlZW33vQaT01",
        "outputId": "c4e977d2-467f-4bbc-f146-483d49637797"
      },
      "execution_count": 2,
      "outputs": [
        {
          "output_type": "stream",
          "name": "stdout",
          "text": [
            "Downloading data from https://storage.googleapis.com/tensorflow/tf-keras-datasets/mnist.npz\n",
            "11493376/11490434 [==============================] - 0s 0us/step\n",
            "11501568/11490434 [==============================] - 0s 0us/step\n"
          ]
        }
      ]
    },
    {
      "cell_type": "markdown",
      "source": [
        "Ten digit 0-9, total of 10 classes.  \n",
        "Build a model, imput 28$\\times$28.  \n",
        "Output is 10"
      ],
      "metadata": {
        "id": "mBKkD_7rbNnW"
      }
    },
    {
      "cell_type": "code",
      "source": [
        "model = tf.keras.models.Sequential(\n",
        "    [\n",
        "        tf.keras.layers.Flatten(input_shape=(28,28)),\n",
        "        tf.keras.layers.Dense(128, activation='relu'),\n",
        "        tf.keras.layers.Dropout(0.2),\n",
        "        tf.keras.layers.Dense(10)\n",
        "    ]\n",
        ")"
      ],
      "metadata": {
        "id": "AviSdwcebG1a"
      },
      "execution_count": 5,
      "outputs": []
    },
    {
      "cell_type": "code",
      "source": [
        "prediction = model(x_train[:1]).numpy()\n",
        "prediction \n"
      ],
      "metadata": {
        "colab": {
          "base_uri": "https://localhost:8080/"
        },
        "id": "MZF-mi9Nclgi",
        "outputId": "fcdaefdb-e37a-4ead-9854-5c84b63bca58"
      },
      "execution_count": 7,
      "outputs": [
        {
          "output_type": "execute_result",
          "data": {
            "text/plain": [
              "array([[ 0.0968871 ,  0.29094854, -0.15103205, -0.1547938 , -0.03443533,\n",
              "         0.04045326, -0.28295588, -0.7244658 ,  0.5221679 , -0.22851121]],\n",
              "      dtype=float32)"
            ]
          },
          "metadata": {},
          "execution_count": 7
        }
      ]
    },
    {
      "cell_type": "code",
      "source": [
        "tf.nn.softmax(prediction)"
      ],
      "metadata": {
        "colab": {
          "base_uri": "https://localhost:8080/"
        },
        "id": "UYgrIxrSdGVb",
        "outputId": "2fc9099c-93f0-4639-e9e5-7d1bfe90b95a"
      },
      "execution_count": 8,
      "outputs": [
        {
          "output_type": "execute_result",
          "data": {
            "text/plain": [
              "<tf.Tensor: shape=(1, 10), dtype=float32, numpy=\n",
              "array([[0.11148003, 0.13535582, 0.08700158, 0.08667493, 0.09776075,\n",
              "        0.10536302, 0.07624887, 0.04903296, 0.1705667 , 0.0805153 ]],\n",
              "      dtype=float32)>"
            ]
          },
          "metadata": {},
          "execution_count": 8
        }
      ]
    },
    {
      "cell_type": "markdown",
      "source": [
        "Add loss fuction"
      ],
      "metadata": {
        "id": "YWshcyOkeGxk"
      }
    },
    {
      "cell_type": "code",
      "source": [
        "loss = tf.keras.losses.SparseCategoricalCrossentropy(from_logits=True)"
      ],
      "metadata": {
        "id": "9AKgWr6SeFyA"
      },
      "execution_count": 10,
      "outputs": []
    },
    {
      "cell_type": "code",
      "source": [
        "loss(y_train[:1], prediction).numpy()"
      ],
      "metadata": {
        "colab": {
          "base_uri": "https://localhost:8080/"
        },
        "id": "DmCeBiZfeV5g",
        "outputId": "d95fc6d7-7c3e-40a2-fe39-356ef606bd4c"
      },
      "execution_count": 11,
      "outputs": [
        {
          "output_type": "execute_result",
          "data": {
            "text/plain": [
              "2.2503436"
            ]
          },
          "metadata": {},
          "execution_count": 11
        }
      ]
    },
    {
      "cell_type": "code",
      "source": [
        "from tensorflow.python import metrics\n",
        "#compile model \n",
        "\n",
        "model.compile(optimizer='adam', loss=loss, metrics=['accuracy'])"
      ],
      "metadata": {
        "id": "8kiO26ynf4H_"
      },
      "execution_count": 12,
      "outputs": []
    },
    {
      "cell_type": "code",
      "source": [
        "model.fit(x_train, y_train, epochs=5)"
      ],
      "metadata": {
        "colab": {
          "base_uri": "https://localhost:8080/"
        },
        "id": "KaXH-k1-gQlV",
        "outputId": "b231d409-71e5-4662-cbea-e4e00fef95ca"
      },
      "execution_count": 13,
      "outputs": [
        {
          "output_type": "stream",
          "name": "stdout",
          "text": [
            "Epoch 1/5\n",
            "1875/1875 [==============================] - 5s 2ms/step - loss: 0.2962 - accuracy: 0.9137\n",
            "Epoch 2/5\n",
            "1875/1875 [==============================] - 5s 2ms/step - loss: 0.1412 - accuracy: 0.9587\n",
            "Epoch 3/5\n",
            "1875/1875 [==============================] - 5s 2ms/step - loss: 0.1060 - accuracy: 0.9677\n",
            "Epoch 4/5\n",
            "1875/1875 [==============================] - 5s 2ms/step - loss: 0.0877 - accuracy: 0.9730\n",
            "Epoch 5/5\n",
            "1875/1875 [==============================] - 5s 2ms/step - loss: 0.0743 - accuracy: 0.9767\n"
          ]
        },
        {
          "output_type": "execute_result",
          "data": {
            "text/plain": [
              "<keras.callbacks.History at 0x7fc1af952350>"
            ]
          },
          "metadata": {},
          "execution_count": 13
        }
      ]
    },
    {
      "cell_type": "markdown",
      "source": [
        "# Evaluate"
      ],
      "metadata": {
        "id": "IvWPmYfRgmth"
      }
    },
    {
      "cell_type": "code",
      "source": [
        "model.evaluate(x_test,y_test, verbose=2)"
      ],
      "metadata": {
        "colab": {
          "base_uri": "https://localhost:8080/"
        },
        "id": "aL9bNi7yglQB",
        "outputId": "3e6b2bca-088b-450f-e26a-55633b1a3060"
      },
      "execution_count": 14,
      "outputs": [
        {
          "output_type": "stream",
          "name": "stdout",
          "text": [
            "313/313 - 1s - loss: 0.0694 - accuracy: 0.9800 - 567ms/epoch - 2ms/step\n"
          ]
        },
        {
          "output_type": "execute_result",
          "data": {
            "text/plain": [
              "[0.06935399025678635, 0.9800000190734863]"
            ]
          },
          "metadata": {},
          "execution_count": 14
        }
      ]
    },
    {
      "cell_type": "markdown",
      "source": [
        "Model is 98% accurate"
      ],
      "metadata": {
        "id": "bURCigvXg051"
      }
    },
    {
      "cell_type": "markdown",
      "source": [
        "# How to wrape model. \n",
        "This can be used to compine two models as well"
      ],
      "metadata": {
        "id": "JwvHxcdEg5NE"
      }
    },
    {
      "cell_type": "code",
      "source": [
        "probabilistic_model = tf.keras.models.Sequential(\n",
        "    [\n",
        "        model, #this is already trained model\n",
        "        tf.keras.layers.Softmax() # Add new layers or this could be another model.\n",
        "    ]\n",
        ")"
      ],
      "metadata": {
        "id": "g4X8TRZGg4ed"
      },
      "execution_count": 15,
      "outputs": []
    },
    {
      "cell_type": "code",
      "source": [
        "probabilistic_model(x_test[:5])"
      ],
      "metadata": {
        "colab": {
          "base_uri": "https://localhost:8080/"
        },
        "id": "Q3U9Vch_hYpX",
        "outputId": "a44f4cda-4ecd-4510-a6e4-00942ccd1c7d"
      },
      "execution_count": 16,
      "outputs": [
        {
          "output_type": "execute_result",
          "data": {
            "text/plain": [
              "<tf.Tensor: shape=(5, 10), dtype=float32, numpy=\n",
              "array([[5.46144250e-08, 1.22357520e-07, 2.73654568e-05, 9.48036206e-04,\n",
              "        9.27557475e-10, 2.68834606e-06, 2.46140050e-13, 9.98977542e-01,\n",
              "        6.64424033e-06, 3.74826341e-05],\n",
              "       [2.59250998e-09, 3.08463495e-04, 9.99643445e-01, 8.20271634e-06,\n",
              "        2.66151410e-15, 3.96164287e-05, 1.31295086e-09, 2.86267381e-11,\n",
              "        1.87544060e-07, 2.72580014e-11],\n",
              "       [1.13263106e-07, 9.98586535e-01, 3.26311652e-04, 1.45094418e-05,\n",
              "        1.67961873e-04, 3.52916823e-06, 3.62797596e-06, 7.39332580e-04,\n",
              "        1.54740948e-04, 3.25813176e-06],\n",
              "       [9.99949455e-01, 1.23593411e-08, 2.80771492e-05, 2.03471345e-07,\n",
              "        8.78819435e-08, 6.78621927e-06, 5.60753597e-06, 7.12783560e-07,\n",
              "        1.10842944e-08, 8.94241111e-06],\n",
              "       [5.40757583e-06, 1.52142104e-06, 9.58836608e-05, 9.70660039e-07,\n",
              "        9.97153163e-01, 3.74887691e-06, 1.04674189e-06, 8.73706187e-04,\n",
              "        9.52194023e-06, 1.85503974e-03]], dtype=float32)>"
            ]
          },
          "metadata": {},
          "execution_count": 16
        }
      ]
    }
  ]
}